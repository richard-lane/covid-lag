{
 "cells": [
  {
   "cell_type": "markdown",
   "metadata": {},
   "source": [
    "Covid Stuff\n",
    "===="
   ]
  },
  {
   "cell_type": "markdown",
   "metadata": {},
   "source": [
    "Let's see if we can find any correlation between cases + deaths for the spread of covid in the UK\n",
    "\n",
    "First we need to download our data and get it into a nice form. Then we can plot it to see if it's what we expect"
   ]
  },
  {
   "cell_type": "code",
   "execution_count": null,
   "metadata": {},
   "outputs": [],
   "source": [
    "import requests\n",
    "import json\n",
    "import matplotlib.pyplot as plt\n",
    "\n",
    "\n",
    "# This URL will let us download a json dump of covid cases and deaths by date\n",
    "url = \"https://api.coronavirus.data.gov.uk/v2/data?areaType=overview&metric=newCasesBySpecimenDate&metric=newDeaths28DaysByDeathDate&format=json\"\n",
    "\n",
    "# Store the data in a str. We can get away with this because it's small\n",
    "covid_data_json = requests.get(url).content\n",
    "\n",
    "# Parse the json str\n",
    "covid_data = json.loads(covid_data_json)[\"body\"]\n",
    "\n",
    "dates = [x[\"date\"] for x in covid_data]\n",
    "cases = [x[\"newCasesBySpecimenDate\"] for x in covid_data]\n",
    "deaths = [x[\"newDeaths28DaysByDeathDate\"] for x in covid_data]\n",
    "\n",
    "cases = [x if x else 0 for x in cases]\n",
    "deaths = [x if x else 0 for x in deaths]\n",
    "\n",
    "dates.reverse()\n",
    "cases.reverse()\n",
    "deaths.reverse()\n",
    "date_num = [i for i, _ in enumerate(dates)]\n",
    "\n",
    "def plot(cases, deaths, dates):\n",
    "    plt.clf()\n",
    "    fig, ax = plt.subplots(2, 1)\n",
    "    ax[0].plot(date_num, cases, label=\"cases\", color=\"r\")\n",
    "    ax[1].plot(date_num, deaths, label=\"deaths\", color=\"k\")\n",
    "    ax[0].legend()\n",
    "    ax[1].legend()\n",
    "    ax[1].set_xlabel(\"Day\")\n",
    "\n",
    "   \n",
    "plot(cases, deaths, date_num)"
   ]
  },
  {
   "cell_type": "markdown",
   "metadata": {},
   "source": [
    "There was way less testing in the first wave, which is annoying\n",
    "\n",
    "We could scale it up, but instead let's only consider the second/third wave(s)"
   ]
  },
  {
   "cell_type": "code",
   "execution_count": null,
   "metadata": {},
   "outputs": [],
   "source": [
    "import numpy as np\n",
    "\n",
    "cases = np.array(cases, dtype=np.int32)\n",
    "deaths = np.array(deaths)\n",
    "date_num = np.array(date_num)\n",
    "\n",
    "cases = cases[date_num > 200]\n",
    "deaths = deaths[date_num > 200]\n",
    "date_num = date_num[date_num > 200]\n",
    "\n",
    "plot(cases, deaths, date_num)"
   ]
  },
  {
   "cell_type": "markdown",
   "metadata": {},
   "source": [
    "The cases graph is really spiky because of the weekly variation in reporting - let's smooth it out with a gaussian filter"
   ]
  },
  {
   "cell_type": "code",
   "execution_count": null,
   "metadata": {},
   "outputs": [],
   "source": [
    "from scipy import ndimage\n",
    "\n",
    "\n",
    "kernel_sigma = 3.5\n",
    "\n",
    "smooth_cases = ndimage.gaussian_filter1d(cases, sigma=kernel_sigma)\n",
    "smooth_deaths = ndimage.gaussian_filter1d(deaths, sigma=kernel_sigma)\n",
    "\n",
    "plot(smooth_cases, smooth_deaths, date_num)"
   ]
  },
  {
   "cell_type": "code",
   "execution_count": null,
   "metadata": {},
   "outputs": [],
   "source": []
  }
 ],
 "metadata": {
  "kernelspec": {
   "display_name": "Python 3",
   "language": "python",
   "name": "python3"
  },
  "language_info": {
   "codemirror_mode": {
    "name": "ipython",
    "version": 3
   },
   "file_extension": ".py",
   "mimetype": "text/x-python",
   "name": "python",
   "nbconvert_exporter": "python",
   "pygments_lexer": "ipython3",
   "version": "3.7.3"
  }
 },
 "nbformat": 4,
 "nbformat_minor": 2
}
